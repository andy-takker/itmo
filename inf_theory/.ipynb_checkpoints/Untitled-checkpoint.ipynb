{
 "cells": [
  {
   "cell_type": "code",
   "execution_count": 1,
   "id": "642c5c51-0e47-4cb0-ace2-ad0db2b1380c",
   "metadata": {},
   "outputs": [],
   "source": [
    "from collections import Counter\n",
    "import queue\n",
    "import math\n",
    "from typing import Dict\n",
    "import os\n",
    "import sys\n",
    "from pathlib import Path\n",
    "\n",
    "BYTES_BY_SYMBOL = 8"
   ]
  },
  {
   "cell_type": "code",
   "execution_count": 2,
   "id": "00b3b385-9f22-485c-a2ab-9f079deed0fe",
   "metadata": {},
   "outputs": [],
   "source": [
    "class ProbabilityCounter(Counter):\n",
    "    \"\"\"Счетчик для подсчета частот и вероятностей символов\"\"\"\n",
    "    def probabilties(self):\n",
    "        total = self.total()\n",
    "        self.probs = {}\n",
    "        for key in self:\n",
    "            self.probs[key] = self[key] / total\n",
    "            \n",
    "    def most_possible(self):\n",
    "        return list(sorted(self.probs.items(),key=lambda x: x[1],reverse=True))"
   ]
  },
  {
   "cell_type": "code",
   "execution_count": 3,
   "id": "034c0a9c-6a6e-480a-8ea0-460b8a5dd3fe",
   "metadata": {},
   "outputs": [],
   "source": [
    "class Node:\n",
    "    \"\"\"Узел дерева Хаффмана\"\"\"\n",
    "    def __init__(self, freq, key = -1, left = None, right = None, code = ''):\n",
    "        self.freq = freq\n",
    "        self.key = key\n",
    "        self.left = left\n",
    "        self.right = right\n",
    "        self.code = code\n",
    "        \n",
    "    def __lt__(self, otr: 'Node'):\n",
    "        \"\"\"Необходимо определить операцию 'меньше' для использования в PriorityQueue\"\"\"\n",
    "        return self.freq < otr.freq"
   ]
  },
  {
   "cell_type": "code",
   "execution_count": 4,
   "id": "063848a7-acfd-4490-9add-f343a937c337",
   "metadata": {},
   "outputs": [],
   "source": [
    "def calculate_entropy(freq_table: ProbabilityCounter):\n",
    "    \"\"\"Расчет энтропии\"\"\"\n",
    "    return sum([-p * math.log2(p) for p in freq_table.probs.values()])"
   ]
  },
  {
   "cell_type": "code",
   "execution_count": 5,
   "id": "ac23f1b8-7541-4522-8e29-9e178ed61e1e",
   "metadata": {},
   "outputs": [],
   "source": [
    "def make_huffman_code_table(freq_table: Counter) -> Dict:\n",
    "    \"\"\"Построение таблицы кодов Хаффмана\"\"\"\n",
    "    nodes = []\n",
    "    q = queue.PriorityQueue()\n",
    "    code_table = {}\n",
    "    \n",
    "    for k, v in freq_table.items():\n",
    "        nodes.append(Node(freq=v,key=k))\n",
    "        q.put(nodes[-1])\n",
    "    \n",
    "    while q.qsize() > 1:\n",
    "        n1 = q.get()\n",
    "        n2 = q.get()\n",
    "        n1.code = '1'\n",
    "        n2.code = '0'\n",
    "        nn = Node(n1.freq+n2.freq, left=n1,right=n2)\n",
    "        nodes.append(nn)\n",
    "        q.put(nodes[-1])\n",
    "        \n",
    "    def tree_traversal(p,codestr=[]):\n",
    "        \"\"\"Обход дерева\"\"\"\n",
    "        codestr.append(p.code)\n",
    "        if p.left:\n",
    "            tree_traversal(p.left,codestr.copy())\n",
    "            tree_traversal(p.right,codestr.copy())\n",
    "        else:\n",
    "            code_table[p.key] = ''.join(codestr)\n",
    "    tree_traversal(nodes[-1])\n",
    "    return code_table\n",
    "\n",
    "def encode_freq(freq_table: Dict[str,int] ) -> str:\n",
    "    output_str = b''\n",
    "    d = {}\n",
    "    for i in freq_table:\n",
    "        d[ord(i)] = freq_table[i].to_bytes(BYTES_BY_SYMBOL,'big')\n",
    "    for i in range(0,256):\n",
    "        if i in d:\n",
    "            output_str += d[i]\n",
    "        else:\n",
    "            output_str += int(0).to_bytes(BYTES_BY_SYMBOL,'big')\n",
    "    return output_str\n",
    "\n",
    "def decode_freq(encoded_str: str) -> Dict[str,int]:\n",
    "    freq_table = {}\n",
    "    for i in range(0, 256):\n",
    "        f = int.from_bytes(encoded_str[i*BYTES_BY_SYMBOL:(i+1)*BYTES_BY_SYMBOL],'big')\n",
    "        if f != 0:\n",
    "            freq_table[chr(i)] = f\n",
    "    return freq_table"
   ]
  },
  {
   "cell_type": "code",
   "execution_count": 6,
   "id": "67b63419-0438-4ce5-a841-4a9fe06b5c05",
   "metadata": {},
   "outputs": [],
   "source": [
    "def calculate_avg_code_word_length(code_table: dict, freq_counter: ProbabilityCounter):\n",
    "    \"\"\"Расчет средней длины кодового слова\"\"\"\n",
    "    return sum([len(code_table[k])* v for k,v in freq_counter.probs.items()])"
   ]
  },
  {
   "cell_type": "code",
   "execution_count": 7,
   "id": "7db0049f-8dc2-40d1-98f5-876f4b1fd6a7",
   "metadata": {},
   "outputs": [],
   "source": [
    "def checking_code_redudancy(r: float, p_max: float) -> bool:\n",
    "    \"\"\"Оценка избыточности кода\"\"\"\n",
    "    h = lambda x: -x * math.log2(x) - (1-x) * math.log2(1-x)\n",
    "    if p_max < 0.5:\n",
    "        return r <= p_max +0.087\n",
    "    else:\n",
    "        return r <= 2 - h(p_max)-p_max"
   ]
  },
  {
   "cell_type": "code",
   "execution_count": 8,
   "id": "0a6723a7-0b2a-4f0f-b853-7ca63815d81b",
   "metadata": {},
   "outputs": [],
   "source": [
    "def encode_huffman(code_table: Dict, data: str, buffer: int = 8) -> str:\n",
    "    \"\"\"Кодирование исходного текста Хаффманом\"\"\"\n",
    "    output_str = ''\n",
    "    for char in data:\n",
    "        output_str += code_table[char]\n",
    "    extra_discharges = buffer - len(output_str) % 8\n",
    "    filler = max(code_table.values(),key=lambda x: len(x))\n",
    "    output_str += filler[:extra_discharges]\n",
    "    return output_str\n",
    "\n",
    "def decode_huffman(code_table: Dict, binary_string: str) -> str:\n",
    "    output_str = ''\n",
    "    i = 0\n",
    "    while True:\n",
    "        for k, v in code_table.items():\n",
    "            if binary_string.find(v,i, i+len(v)) != -1:\n",
    "                output_str += k\n",
    "                i += len(v)\n",
    "                break\n",
    "        else:\n",
    "            break\n",
    "        \n",
    "    return output_str\n",
    "\n",
    "def str_to_bytes(bit_string: str) -> str:\n",
    "    \"\"\"Преобразование полученной обычной строки в байтовую\"\"\"\n",
    "    n = int(bit_string,2)\n",
    "    return n.to_bytes(n.bit_length()//8,'big')\n",
    "\n",
    "def bytes_to_str(byte_str: str) -> str:\n",
    "    \"\"\"Преобразование байтовой строки в бинарную\"\"\"\n",
    "    n = int.from_bytes(byte_str,'big')\n",
    "    return f'{n:b}'"
   ]
  },
  {
   "cell_type": "code",
   "execution_count": 11,
   "id": "53adbd63-2d10-440d-aa6f-a2e3a6a427f6",
   "metadata": {},
   "outputs": [],
   "source": [
    "def encode_file(input_filename: str, encoded_filename: str):\n",
    "    \"\"\"Закодировать файл\"\"\"\n",
    "    \n",
    "    with open(input_filename,'r') as file:\n",
    "        text = file.read()\n",
    "\n",
    "    p_counter = ProbabilityCounter(text)\n",
    "    p_counter.probabilties()\n",
    "\n",
    "    entropy = calculate_entropy(p_counter)\n",
    "    print(f'Энтропия: {entropy:.2f} бит')\n",
    "\n",
    "    code_table = make_huffman_code_table(p_counter)\n",
    "\n",
    "    avg_word_length = calculate_avg_code_word_length(code_table,p_counter)\n",
    "    print(f'Средняя длина кодового слова: {avg_word_length:.2f} бит(а)')\n",
    "\n",
    "    file_size_after_encoding = avg_word_length * len(text) / 8 / 1024 / 1024\n",
    "    print(f'Примерный размер файла после кодирования (без таблицы): {file_size_after_encoding:.2f} МБайт')\n",
    "    print(f'Размер таблицы: {8 * 256 / 1024} КБайт')\n",
    "    f = checking_code_redudancy(avg_word_length - entropy, p_counter.most_possible()[0][1])\n",
    "    if f:\n",
    "        print('Избыточность кода удовлетворительна')\n",
    "    else:\n",
    "        print('Код не оптимален!')\n",
    "\n",
    "\n",
    "    encoded_string = encode_huffman(code_table, text)\n",
    "    encoded_frequencies = encode_freq(p_counter)\n",
    "    encoded_byte_string = str_to_bytes(encoded_string)\n",
    "\n",
    "    with open(encoded_filename,'wb') as bytes_file:\n",
    "        bytes_file.write(encoded_frequencies+encoded_byte_string)\n",
    "\n",
    "    real_file_size = os.path.getsize(encoded_filename) / 1024 / 1024\n",
    "    print(f'Фактический размер файла после кодирования: {real_file_size:.2f} МБайт')\n",
    "\n",
    "def decode_file(encoded_filename: str, decoded_filename: str):\n",
    "    \"\"\"Раскодировать файл\"\"\"\n",
    "    with open(encoded_filename, 'rb') as bytes_file:\n",
    "        bytes_from_file = bytes_file.read()\n",
    "\n",
    "    encoded_text = bytes_to_str(bytes_from_file[256*8:])\n",
    "    encoded_frequencies = bytes_from_file[:256*BYTES_BY_SYMBOL]\n",
    "    \n",
    "    p_counter = ProbabilityCounter(decode_freq(encoded_frequencies))\n",
    "    p_counter.probabilties()\n",
    "    code_table = make_huffman_code_table(p_counter)\n",
    "    decoded_text = decode_huffman(binary_string=encoded_text,code_table=code_table)\n",
    "    \n",
    "    with open(decode_filename, 'w+') as decoded_file:\n",
    "        decode_file.write(decoded_text)\n",
    "    print('Файл успешно раскодирован!')\n",
    "    \n",
    "def main():\n",
    "    input_filename = 'bible.txt'\n",
    "    output_filename = 'output.bytes'\n",
    "    # encode_file(input_filename,output_filename)\n",
    "    decode_file(encoded_filename=output_filename,decoded_filename='decoded_'+input_filename)\n",
    "    \n",
    "    \n",
    "if __name__ == '__main__':\n",
    "    main()"
   ]
  },
  {
   "cell_type": "code",
   "execution_count": 10,
   "id": "63e8aa86-c714-417f-a574-810c85842aa0",
   "metadata": {},
   "outputs": [
    {
     "ename": "SyntaxError",
     "evalue": "invalid syntax (1700896787.py, line 1)",
     "output_type": "error",
     "traceback": [
      "\u001b[0;36m  Input \u001b[0;32mIn [10]\u001b[0;36m\u001b[0m\n\u001b[0;31m    8 байт\u001b[0m\n\u001b[0m      ^\u001b[0m\n\u001b[0;31mSyntaxError\u001b[0m\u001b[0;31m:\u001b[0m invalid syntax\n"
     ]
    }
   ],
   "source": []
  },
  {
   "cell_type": "code",
   "execution_count": 66,
   "id": "6100d82a-b792-48f9-b773-42724ab1feeb",
   "metadata": {},
   "outputs": [
    {
     "data": {
      "text/plain": [
       "'111111111111111111111111'"
      ]
     },
     "execution_count": 66,
     "metadata": {},
     "output_type": "execute_result"
    }
   ],
   "source": [
    "'111'* 8"
   ]
  },
  {
   "cell_type": "code",
   "execution_count": 70,
   "id": "949d2ad7-e278-424f-897e-621798bdd516",
   "metadata": {},
   "outputs": [
    {
     "data": {
      "text/plain": [
       "1206188176603715127168445810734022174074570261877402710321"
      ]
     },
     "execution_count": 70,
     "metadata": {},
     "output_type": "execute_result"
    }
   ],
   "source": [
    "int.from_bytes(b'111111111111111111111111','big')"
   ]
  },
  {
   "cell_type": "code",
   "execution_count": 95,
   "id": "0ed87a0b-0494-44ae-84e2-96820c9aaf88",
   "metadata": {},
   "outputs": [
    {
     "data": {
      "text/plain": [
       "{'\\n': 30383,\n",
       " ' ': 766111,\n",
       " '!': 308,\n",
       " \"'\": 1943,\n",
       " '(': 214,\n",
       " ')': 214,\n",
       " ',': 68389,\n",
       " '-': 23,\n",
       " '.': 25438,\n",
       " ':': 12439,\n",
       " ';': 9968,\n",
       " '?': 3179,\n",
       " 'A': 17038,\n",
       " 'B': 4472,\n",
       " 'C': 1621,\n",
       " 'D': 8425,\n",
       " 'E': 2439,\n",
       " 'F': 2292,\n",
       " 'G': 5943,\n",
       " 'H': 3042,\n",
       " 'I': 12823,\n",
       " 'J': 5920,\n",
       " 'K': 519,\n",
       " 'L': 8859,\n",
       " 'M': 2954,\n",
       " 'N': 1746,\n",
       " 'O': 8547,\n",
       " 'P': 1718,\n",
       " 'Q': 5,\n",
       " 'R': 7179,\n",
       " 'S': 4618,\n",
       " 'T': 7424,\n",
       " 'U': 275,\n",
       " 'V': 99,\n",
       " 'W': 2345,\n",
       " 'Y': 529,\n",
       " 'Z': 883,\n",
       " 'a': 248716,\n",
       " 'b': 42888,\n",
       " 'c': 51317,\n",
       " 'd': 144021,\n",
       " 'e': 396042,\n",
       " 'f': 78370,\n",
       " 'g': 47279,\n",
       " 'h': 270179,\n",
       " 'i': 174140,\n",
       " 'j': 2388,\n",
       " 'k': 20703,\n",
       " 'l': 117300,\n",
       " 'm': 74364,\n",
       " 'n': 215496,\n",
       " 'o': 226152,\n",
       " 'p': 39885,\n",
       " 'q': 930,\n",
       " 'r': 157355,\n",
       " 's': 179075,\n",
       " 't': 299633,\n",
       " 'u': 80762,\n",
       " 'v': 29448,\n",
       " 'w': 61051,\n",
       " 'x': 1423,\n",
       " 'y': 56323,\n",
       " 'z': 1828}"
      ]
     },
     "execution_count": 95,
     "metadata": {},
     "output_type": "execute_result"
    }
   ],
   "source": [
    "decode_freq(encode_freq(p_counter))\n"
   ]
  },
  {
   "cell_type": "code",
   "execution_count": 97,
   "id": "09cc2ee8-b928-401b-893b-f18e76626f74",
   "metadata": {},
   "outputs": [
    {
     "data": {
      "text/plain": [
       "ProbabilityCounter({'I': 12823,\n",
       "                    'n': 215496,\n",
       "                    ' ': 766111,\n",
       "                    't': 299633,\n",
       "                    'h': 270179,\n",
       "                    'e': 396042,\n",
       "                    'b': 42888,\n",
       "                    'g': 47279,\n",
       "                    'i': 174140,\n",
       "                    'G': 5943,\n",
       "                    'o': 226152,\n",
       "                    'd': 144021,\n",
       "                    'c': 51317,\n",
       "                    'r': 157355,\n",
       "                    'a': 248716,\n",
       "                    'v': 29448,\n",
       "                    '.': 25438,\n",
       "                    'A': 17038,\n",
       "                    'w': 61051,\n",
       "                    's': 179075,\n",
       "                    'u': 80762,\n",
       "                    'f': 78370,\n",
       "                    'm': 74364,\n",
       "                    ',': 68389,\n",
       "                    ';': 9968,\n",
       "                    'k': 20703,\n",
       "                    'p': 39885,\n",
       "                    'S': 4618,\n",
       "                    '\\n': 30383,\n",
       "                    'L': 8859,\n",
       "                    'l': 117300,\n",
       "                    ':': 12439,\n",
       "                    'D': 8425,\n",
       "                    'y': 56323,\n",
       "                    'N': 1746,\n",
       "                    'H': 3042,\n",
       "                    'E': 2439,\n",
       "                    'B': 4472,\n",
       "                    'x': 1423,\n",
       "                    'T': 7424,\n",
       "                    'O': 8547,\n",
       "                    'R': 7179,\n",
       "                    'P': 1718,\n",
       "                    'W': 2345,\n",
       "                    'M': 2954,\n",
       "                    'Y': 529,\n",
       "                    '?': 3179,\n",
       "                    'F': 2292,\n",
       "                    'U': 275,\n",
       "                    \"'\": 1943,\n",
       "                    'C': 1621,\n",
       "                    'j': 2388,\n",
       "                    'Z': 883,\n",
       "                    'J': 5920,\n",
       "                    'q': 930,\n",
       "                    'z': 1828,\n",
       "                    'K': 519,\n",
       "                    '(': 214,\n",
       "                    ')': 214,\n",
       "                    '!': 308,\n",
       "                    'V': 99,\n",
       "                    '-': 23,\n",
       "                    'Q': 5})"
      ]
     },
     "execution_count": 97,
     "metadata": {},
     "output_type": "execute_result"
    }
   ],
   "source": [
    "p_counter"
   ]
  },
  {
   "cell_type": "code",
   "execution_count": null,
   "id": "c7d1efd0-ba4a-4cc0-badf-96f43f0d0526",
   "metadata": {},
   "outputs": [],
   "source": []
  }
 ],
 "metadata": {
  "kernelspec": {
   "display_name": "Python 3 (ipykernel)",
   "language": "python",
   "name": "python3"
  },
  "language_info": {
   "codemirror_mode": {
    "name": "ipython",
    "version": 3
   },
   "file_extension": ".py",
   "mimetype": "text/x-python",
   "name": "python",
   "nbconvert_exporter": "python",
   "pygments_lexer": "ipython3",
   "version": "3.10.2"
  }
 },
 "nbformat": 4,
 "nbformat_minor": 5
}
