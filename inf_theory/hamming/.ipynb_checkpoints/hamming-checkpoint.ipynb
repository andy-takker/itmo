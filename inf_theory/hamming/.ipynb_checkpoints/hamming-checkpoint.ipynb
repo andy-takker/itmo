{
 "cells": [
  {
   "cell_type": "code",
   "execution_count": 101,
   "id": "2a07a411-0456-43a0-8f24-60be58d16c5b",
   "metadata": {},
   "outputs": [],
   "source": [
    "from typing import List\n",
    "from random import choices,choice, randrange"
   ]
  },
  {
   "cell_type": "code",
   "execution_count": 31,
   "id": "dc837f0d-9e88-408e-af27-24d89201cfde",
   "metadata": {
    "tags": []
   },
   "outputs": [],
   "source": [
    "def get_h_matrix(n: int, k: int) -> List[List[int]]:\n",
    "    pass"
   ]
  },
  {
   "cell_type": "code",
   "execution_count": 89,
   "id": "8f2e2fe4-7759-4348-aa51-9e85a7a912c2",
   "metadata": {},
   "outputs": [],
   "source": [
    "def get_dist_hamming(a: List[int], b: List[int]):\n",
    "    return sum([1 for i in range(len(a)) if a[i] != b[i]])\n",
    "\n",
    "def checking2(n: int):\n",
    "    \"\"\"Проверка на степень двойки\"\"\"\n",
    "    if n & (n - 1) :\n",
    "        return False\n",
    "    else:\n",
    "        return True\n",
    "\n",
    "def get_bin_list(n: int, size=None):\n",
    "    \"\"\"Возвращает список\"\"\"\n",
    "    arr = []\n",
    "    while True:\n",
    "        arr.insert(0, n % 2)\n",
    "        n //= 2\n",
    "        if n == 0:\n",
    "            break\n",
    "    if size is not None:\n",
    "        return [0]*(size-len(arr))+arr\n",
    "    return arr\n",
    "\n",
    "def transpose(arr: List[List]) -> List[List]:\n",
    "    \"\"\"Транспонирует матрицу\"\"\"\n",
    "    return list(map(list,zip(*arr)))\n",
    "\n",
    "def mult(mat1: List[List], mat2: List[List]) -> List[List]:\n",
    "    \"\"\"Умножает матрицу arr1 (слева) на матрицу arr2 (справа)\"\"\"\n",
    "    result = []\n",
    "    for i in range(0,len(mat1)):\n",
    "        temp=[]\n",
    "        for j in range(0,len(mat2[0])):\n",
    "            s = 0\n",
    "            for k in range(0,len(mat1[0])):\n",
    "                k = 0 if mat1[i][k]*mat2[k][j] == 0 else 1\n",
    "                s = (s+k) % 2\n",
    "            temp.append(s)\n",
    "        result.append(temp)\n",
    "    return result\n",
    "\n",
    "def ones(n: int):\n",
    "    \"\"\"Возвращает единичную матрицу размером n\"\"\"\n",
    "    res = []\n",
    "    for i in range(n):\n",
    "        row = [0] * n\n",
    "        row[i] = 1\n",
    "        res.append(row)\n",
    "    return res\n",
    "\n",
    "def poscript(mat1: List[List], mat2: List[List]):\n",
    "    res = []\n",
    "    for i in range(len(mat1)):\n",
    "        res.append(mat1[i][:]+mat2[i][:])\n",
    "    return res\n",
    "\n",
    "def get_h1(n: int, k: int):\n",
    "    \"\"\"Возвращает матрицу H1\"\"\"\n",
    "    h1 = []\n",
    "    numbers = []\n",
    "    t = 1\n",
    "    for i in range(k):\n",
    "        while checking2(t) or t in numbers:\n",
    "            t += 1\n",
    "        h1.append(get_bin_list(t,r))\n",
    "        numbers.append(t)\n",
    "    return transpose(h1)\n",
    "\n",
    "def get_h(n: int, k: int):\n",
    "    \"\"\"Возвращает проверочную матрицу\"\"\"\n",
    "    return poscript(get_h1(n,k),ones(n-k))\n",
    "\n",
    "def get_g(n: int, k: int):\n",
    "    \"\"\"Возвращает порождающую матрицу\"\"\"\n",
    "    return poscript(ones(k),transpose(get_h1(n,k)))\n",
    "\n",
    "def get_code_word(n):\n",
    "    return choices([0,1],k=n)\n",
    "\n",
    "def checking_word(word: List[int], h_mat: List[List]):\n",
    "    return sum(mult([word],h_mat)[0]) == 0\n",
    "\n",
    "def code_words(n):\n",
    "    for i in range(2 ** n):\n",
    "        yield get_bin_list(i,n)"
   ]
  },
  {
   "cell_type": "code",
   "execution_count": 107,
   "id": "1784b5d9-3c6f-46ee-9b36-efb520b25807",
   "metadata": {},
   "outputs": [
    {
     "data": {
      "text/plain": [
       "([[0, 0, 0, 0, 1, 1, 1, 1, 1, 1, 1, 1, 0, 0, 0],\n",
       "  [0, 1, 1, 1, 0, 0, 0, 1, 1, 1, 1, 0, 1, 0, 0],\n",
       "  [1, 0, 1, 1, 0, 1, 1, 0, 0, 1, 1, 0, 0, 1, 0],\n",
       "  [1, 1, 0, 1, 1, 0, 1, 0, 1, 0, 1, 0, 0, 0, 1]],\n",
       " [[1, 0, 0, 0, 0, 0, 0, 0, 0, 0, 0, 0, 0, 1, 1],\n",
       "  [0, 1, 0, 0, 0, 0, 0, 0, 0, 0, 0, 0, 1, 0, 1],\n",
       "  [0, 0, 1, 0, 0, 0, 0, 0, 0, 0, 0, 0, 1, 1, 0],\n",
       "  [0, 0, 0, 1, 0, 0, 0, 0, 0, 0, 0, 0, 1, 1, 1],\n",
       "  [0, 0, 0, 0, 1, 0, 0, 0, 0, 0, 0, 1, 0, 0, 1],\n",
       "  [0, 0, 0, 0, 0, 1, 0, 0, 0, 0, 0, 1, 0, 1, 0],\n",
       "  [0, 0, 0, 0, 0, 0, 1, 0, 0, 0, 0, 1, 0, 1, 1],\n",
       "  [0, 0, 0, 0, 0, 0, 0, 1, 0, 0, 0, 1, 1, 0, 0],\n",
       "  [0, 0, 0, 0, 0, 0, 0, 0, 1, 0, 0, 1, 1, 0, 1],\n",
       "  [0, 0, 0, 0, 0, 0, 0, 0, 0, 1, 0, 1, 1, 1, 0],\n",
       "  [0, 0, 0, 0, 0, 0, 0, 0, 0, 0, 1, 1, 1, 1, 1]])"
      ]
     },
     "execution_count": 107,
     "metadata": {},
     "output_type": "execute_result"
    }
   ],
   "source": [
    "n = 15\n",
    "k = 11\n",
    "r = n-k\n",
    "H = get_h(n,k)\n",
    "G = get_g(n,k)\n",
    "H, G"
   ]
  },
  {
   "cell_type": "code",
   "execution_count": 91,
   "id": "59c8fabb-afb6-4d10-a2ac-be7c5b3b7fae",
   "metadata": {},
   "outputs": [
    {
     "name": "stdout",
     "output_type": "stream",
     "text": [
      "Проверим проверочную и порождающую матрицы перемножением:\n"
     ]
    },
    {
     "data": {
      "text/plain": [
       "[[0, 0, 0, 0],\n",
       " [0, 0, 0, 0],\n",
       " [0, 0, 0, 0],\n",
       " [0, 0, 0, 0],\n",
       " [0, 0, 0, 0],\n",
       " [0, 0, 0, 0],\n",
       " [0, 0, 0, 0],\n",
       " [0, 0, 0, 0],\n",
       " [0, 0, 0, 0],\n",
       " [0, 0, 0, 0],\n",
       " [0, 0, 0, 0]]"
      ]
     },
     "execution_count": 91,
     "metadata": {},
     "output_type": "execute_result"
    }
   ],
   "source": [
    "print('Проверим проверочную и порождающую матрицы перемножением:')\n",
    "mult(G,transpose(H))"
   ]
  },
  {
   "cell_type": "code",
   "execution_count": 92,
   "id": "9cf4d4e2-bf38-4309-b16f-0c505f9192ef",
   "metadata": {},
   "outputs": [
    {
     "name": "stdout",
     "output_type": "stream",
     "text": [
      "Сохраним все закодированные слова с исходными в словарь\n"
     ]
    }
   ],
   "source": [
    "print('Сохраним все закодированные слова с исходными в словарь')\n",
    "encoded_dict = {}\n",
    "for i in code_words(11):\n",
    "    encoded = tuple(mult([i], G)[0])\n",
    "    encoded_dict[encoded] = i"
   ]
  },
  {
   "cell_type": "code",
   "execution_count": 133,
   "id": "2b10e68f-19a8-4263-9021-199c8369122f",
   "metadata": {},
   "outputs": [
    {
     "name": "stdout",
     "output_type": "stream",
     "text": [
      "Выберем случайное кодовое слово:\n",
      "(1, 0, 1, 1, 1, 0, 0, 0, 0, 1, 0, 0, 1, 0, 1)\n"
     ]
    }
   ],
   "source": [
    "random_encoded_word = choice(list(encoded_dict.keys()))\n",
    "print('Выберем случайное кодовое слово:\\n',random_encoded_word,sep='')"
   ]
  },
  {
   "cell_type": "code",
   "execution_count": 100,
   "id": "098285e4-8c6d-487f-8efe-27faeb7f32f7",
   "metadata": {},
   "outputs": [
    {
     "name": "stdout",
     "output_type": "stream",
     "text": [
      "Проверим кодовое слово умножением на матрицу H:\n",
      "[[0, 0, 0, 0]]\n"
     ]
    }
   ],
   "source": [
    "print('Проверим кодовое слово умножением на матрицу H:')\n",
    "print(mult([random_encoded_word],transpose(H)))"
   ]
  },
  {
   "cell_type": "code",
   "execution_count": 141,
   "id": "a843d73f-fe25-4311-b566-2b86038662df",
   "metadata": {},
   "outputs": [
    {
     "name": "stdout",
     "output_type": "stream",
     "text": [
      "Внесем ошибку в кодовое слово с помощью случайного XOR:\n",
      "Исходное: (1, 0, 1, 1, 1, 0, 0, 0, 0, 1, 0, 0, 1, 0, 1)\n",
      "С ошибкой: (1, 0, 1, 1, 0, 0, 0, 0, 0, 1, 0, 0, 1, 0, 1)\n"
     ]
    }
   ],
   "source": [
    "print('Внесем ошибку в кодовое слово с помощью случайного XOR:')\n",
    "print('Исходное:', random_encoded_word)\n",
    "error_in = randrange(n)\n",
    "errored_encoded_word = tuple([random_encoded_word[i] if i != error_in else random_encoded_word[i] ^ 1 for i in range(n)])\n",
    "print('С ошибкой:', errored_encoded_word)"
   ]
  },
  {
   "cell_type": "code",
   "execution_count": 159,
   "id": "4398d23d-c73f-4590-a555-f599d8e5cb5a",
   "metadata": {},
   "outputs": [
    {
     "name": "stdout",
     "output_type": "stream",
     "text": [
      "Найдем слово методом исправления: найдем минимальное расстояние Хэмминга между словом с ошибкой и всем словарем\n",
      "Найденное слово: (1, 0, 1, 1, 1, 0, 0, 0, 0, 1, 0, 0, 1, 0, 1)\n",
      "Это слово совпадает с изначально закодированным? True\n",
      "Это слово соответствует исходному сообщению: [1, 0, 1, 1, 1, 0, 0, 0, 0, 1, 0]\n",
      "Проверим слово методом обнаружения: попробуем найти слово с ошибкой в словаре напрямую\n",
      "Слово не обнаружено!\n",
      "\n",
      "\n"
     ]
    }
   ],
   "source": [
    "min_dist_hamming = n\n",
    "min_word = []\n",
    "print('Найдем слово методом исправления: найдем минимальное расстояние Хэмминга между словом с ошибкой и всем словарем')\n",
    "for word in encoded_dict:\n",
    "    dist_hamming = get_dist_hamming(word,errored_encoded_word)\n",
    "    if min_dist_hamming > dist_hamming:\n",
    "        min_word = word\n",
    "        min_dist_hamming = dist_hamming\n",
    "print('Найденное слово:', min_word)\n",
    "print('Это слово совпадает с изначально закодированным?', min_word == random_encoded_word)\n",
    "print('Это слово соответствует исходному сообщению:', encoded_dict[min_word])\n",
    "print('Проверим слово методом обнаружения: попробуем найти слово с ошибкой в словаре напрямую')\n",
    "check = errored_encoded_word in d\n",
    "print(f'Слово {\"не\" if not check else \"\"} обнаружено!\\n\\n')"
   ]
  },
  {
   "cell_type": "code",
   "execution_count": 160,
   "id": "5a5439e4-44ab-46e5-a499-368b92ca1f04",
   "metadata": {},
   "outputs": [
    {
     "name": "stdout",
     "output_type": "stream",
     "text": [
      "Внесем 2 ошибки и проверим слово методом обнаружения\n",
      "С ошибкой: (1, 0, 1, 1, 1, 0, 0, 0, 1, 1, 0, 0, 0, 0, 1)\n"
     ]
    }
   ],
   "source": [
    "print('Внесем 2 ошибки и проверим слово методом обнаружения')\n",
    "errors_in = choices(range(0,n),k=2)\n",
    "errored_encoded_word = tuple([random_encoded_word[i] if i not in errors_in else random_encoded_word[i] ^ 1 for i in range(n)])\n",
    "print('С ошибкой:', errored_encoded_word)"
   ]
  },
  {
   "cell_type": "code",
   "execution_count": 158,
   "id": "d933fd06-5b2f-49c0-87a5-ef06b5dc7638",
   "metadata": {},
   "outputs": [
    {
     "name": "stdout",
     "output_type": "stream",
     "text": [
      "Проверим слово методом обнаружения: попробуем найти слово с ошибкой в словаре напрямую\n",
      "Слово не обнаружено!\n",
      "Проверять слово методом исправления неправильно,\n",
      "т. к. согласно теореме с минимальным расстоянием d = 3,\n",
      "мы можем исправить максимум 1 ошибку.\n",
      "Следовательно, может быть более одного слова с минимальным расстоянием Хэмминга\n"
     ]
    }
   ],
   "source": [
    "print('Проверим слово методом обнаружения: попробуем найти слово с ошибкой в словаре напрямую')\n",
    "check = errored_encoded_word in d\n",
    "print(f'Слово {\"не\" if not check else \"\"} обнаружено!')\n",
    "\n",
    "print('Проверять слово методом исправления неправильно,\\nт. к. согласно теореме с минимальным расстоянием d = 3,\\nмы можем исправить максимум 1 ошибку.\\nСледовательно, может быть более одного слова с минимальным расстоянием Хэмминга')"
   ]
  },
  {
   "cell_type": "code",
   "execution_count": 118,
   "id": "a723ab0f-250b-4d02-afb5-171d86a610ae",
   "metadata": {},
   "outputs": [
    {
     "data": {
      "text/plain": [
       "0"
      ]
     },
     "execution_count": 118,
     "metadata": {},
     "output_type": "execute_result"
    }
   ],
   "source": [
    "0 ^ 0"
   ]
  },
  {
   "cell_type": "code",
   "execution_count": null,
   "id": "7aa2d316-661c-4877-b1cd-d3e8f196b4b2",
   "metadata": {},
   "outputs": [],
   "source": []
  }
 ],
 "metadata": {
  "kernelspec": {
   "display_name": "Python 3 (ipykernel)",
   "language": "python",
   "name": "python3"
  },
  "language_info": {
   "codemirror_mode": {
    "name": "ipython",
    "version": 3
   },
   "file_extension": ".py",
   "mimetype": "text/x-python",
   "name": "python",
   "nbconvert_exporter": "python",
   "pygments_lexer": "ipython3",
   "version": "3.10.2"
  }
 },
 "nbformat": 4,
 "nbformat_minor": 5
}
